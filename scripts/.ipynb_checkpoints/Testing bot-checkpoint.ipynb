{
 "cells": [
  {
   "cell_type": "code",
   "execution_count": 1,
   "id": "355a2a7d",
   "metadata": {},
   "outputs": [],
   "source": [
    "import sys, os\n",
    "sys.path.append(os.path.abspath(\"../\"))\n",
    "from modules import binance_anacrypy\n",
    "from modules import mytelebot"
   ]
  },
  {
   "cell_type": "code",
   "execution_count": 2,
   "id": "88f7185d",
   "metadata": {},
   "outputs": [],
   "source": [
    "# getcrypt=binance_anacrypy.get_eval_crypto_stat(\"ETHEUR\",\"15m\")"
   ]
  },
  {
   "cell_type": "code",
   "execution_count": 3,
   "id": "7a8b29e9",
   "metadata": {},
   "outputs": [],
   "source": [
    "interval_list=[\"3m\",\"5m\",\"15m\",\"30m\",\"1h\",\"2h\",\"6h\",\"12h\",\"1d\",\"3d\",\"1w\",\"1M\"]\n",
    "interval_list=[\"12h\",\"1d\",\"3d\",\"1w\",\"1M\"]\n",
    "coinlist=[\"XLMUSDT\",\"BTCEUR\"]#,\"MATICUSDT\",\"ADAUSDT\",\"SOLUSDT\",\"XRPEUR\",\"BTTUSDT\",\"DOGEUSDT\",\"YFIEUR\"]\n",
    "attr_list=[\"EMA7 sl\",\"EMA30 sl\",\"Recmnd>>\"]"
   ]
  },
  {
   "cell_type": "code",
   "execution_count": 4,
   "id": "a98441b0",
   "metadata": {},
   "outputs": [],
   "source": [
    "# binance_anacrypy.get_crypto_dict(coinlist,interval_list)"
   ]
  },
  {
   "cell_type": "code",
   "execution_count": 7,
   "id": "9f89f6f5",
   "metadata": {},
   "outputs": [
    {
     "name": "stdout",
     "output_type": "stream",
     "text": [
      "/Users/adityarotti/Documents/Personal/Finances/crypto_analyser/outdata/buysell_idicator_2021-05-20_18-13.png\n"
     ]
    }
   ],
   "source": [
    "binance_anacrypy.gen_pandas_crypt_table(coinlist,interval_list,attr_list)"
   ]
  },
  {
   "cell_type": "code",
   "execution_count": 6,
   "id": "bedf3838",
   "metadata": {},
   "outputs": [],
   "source": [
    "mytelebot.broadcast_cryptoupdate_via_mybot()"
   ]
  },
  {
   "cell_type": "code",
   "execution_count": null,
   "id": "8b24c6c9",
   "metadata": {},
   "outputs": [],
   "source": []
  }
 ],
 "metadata": {
  "kernelspec": {
   "display_name": "Python 3",
   "language": "python",
   "name": "python3"
  },
  "language_info": {
   "codemirror_mode": {
    "name": "ipython",
    "version": 3
   },
   "file_extension": ".py",
   "mimetype": "text/x-python",
   "name": "python",
   "nbconvert_exporter": "python",
   "pygments_lexer": "ipython3",
   "version": "3.7.10"
  },
  "toc": {
   "base_numbering": 1,
   "nav_menu": {},
   "number_sections": true,
   "sideBar": true,
   "skip_h1_title": false,
   "title_cell": "Table of Contents",
   "title_sidebar": "Contents",
   "toc_cell": false,
   "toc_position": {},
   "toc_section_display": true,
   "toc_window_display": true
  }
 },
 "nbformat": 4,
 "nbformat_minor": 5
}
